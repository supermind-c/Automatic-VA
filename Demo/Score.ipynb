{
 "cells": [
  {
   "cell_type": "code",
   "execution_count": 50,
   "metadata": {},
   "outputs": [],
   "source": [
    "import numpy\n",
    "\n",
    "def check_score(n,score):\n",
    "    if n > 3 :\n",
    "        limit = numpy.ceil(n/2) - 1\n",
    "    elif n == 3 :\n",
    "        limit = 1\n",
    "    else :\n",
    "        limit = 0\n",
    "    \n",
    "    if limit >= (n - score) :\n",
    "        if n == 8 :\n",
    "            return False, (n - score)\n",
    "        else :\n",
    "            return True, (n - score)\n",
    "    else :\n",
    "        return False, (n - score)"
   ]
  },
  {
   "cell_type": "code",
   "execution_count": 78,
   "metadata": {},
   "outputs": [],
   "source": [
    "def result_score(n, incorrect, line=None):\n",
    "    if line == None :\n",
    "        line = n\n",
    "    base_line = numpy.floor(n/2)\n",
    "    if incorrect > base_line:\n",
    "        return (line-1), (n - incorrect)\n",
    "    else :\n",
    "        return line, -incorrect"
   ]
  },
  {
   "cell_type": "code",
   "execution_count": 79,
   "metadata": {},
   "outputs": [],
   "source": [
    "n = 8\n",
    "score = 5"
   ]
  },
  {
   "cell_type": "code",
   "execution_count": 80,
   "metadata": {},
   "outputs": [
    {
     "name": "stdout",
     "output_type": "stream",
     "text": [
      "False\n",
      "3\n"
     ]
    }
   ],
   "source": [
    "stop, incorrect = check_score(n,score)\n",
    "print(stop)\n",
    "print(incorrect)"
   ]
  },
  {
   "cell_type": "code",
   "execution_count": 81,
   "metadata": {},
   "outputs": [
    {
     "name": "stdout",
     "output_type": "stream",
     "text": [
      "End @ line 8 with -3\n"
     ]
    }
   ],
   "source": [
    "if stop == False :\n",
    "    end_line, note = result_score(n,incorrect)\n",
    "print(f\"End @ line {end_line} with {note}\")\n"
   ]
  },
  {
   "cell_type": "code",
   "execution_count": 83,
   "metadata": {},
   "outputs": [],
   "source": [
    "def result(n, score, line=None) :\n",
    "    stop, incorrect = check_score(n,score)\n",
    "    if stop == False :\n",
    "        end_line, note = result_score(n,incorrect)\n",
    "    print(f\"End @ line {end_line} with {note}\")"
   ]
  },
  {
   "cell_type": "code",
   "execution_count": 85,
   "metadata": {},
   "outputs": [
    {
     "name": "stdout",
     "output_type": "stream",
     "text": [
      "End @ line 8 with -3\n"
     ]
    }
   ],
   "source": [
    "result(8,5)"
   ]
  }
 ],
 "metadata": {
  "kernelspec": {
   "display_name": "base",
   "language": "python",
   "name": "python3"
  },
  "language_info": {
   "codemirror_mode": {
    "name": "ipython",
    "version": 3
   },
   "file_extension": ".py",
   "mimetype": "text/x-python",
   "name": "python",
   "nbconvert_exporter": "python",
   "pygments_lexer": "ipython3",
   "version": "3.10.9"
  },
  "orig_nbformat": 4
 },
 "nbformat": 4,
 "nbformat_minor": 2
}
